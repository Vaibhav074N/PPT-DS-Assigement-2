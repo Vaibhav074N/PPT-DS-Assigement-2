{
  "nbformat": 4,
  "nbformat_minor": 0,
  "metadata": {
    "colab": {
      "provenance": [],
      "authorship_tag": "ABX9TyO2KvhIWux78zdxxCifc187",
      "include_colab_link": true
    },
    "kernelspec": {
      "name": "python3",
      "display_name": "Python 3"
    },
    "language_info": {
      "name": "python"
    }
  },
  "cells": [
    {
      "cell_type": "markdown",
      "metadata": {
        "id": "view-in-github",
        "colab_type": "text"
      },
      "source": [
        "<a href=\"https://colab.research.google.com/github/Vaibhav074N/PPT-DS-Assigement-2/blob/main/PPT_DS_Assigement_2.ipynb\" target=\"_parent\"><img src=\"https://colab.research.google.com/assets/colab-badge.svg\" alt=\"Open In Colab\"/></a>"
      ]
    },
    {
      "cell_type": "markdown",
      "source": [
        "Q1."
      ],
      "metadata": {
        "id": "48_eHWHPMjB-"
      }
    },
    {
      "cell_type": "code",
      "execution_count": null,
      "metadata": {
        "id": "bpdv1GjhLPHD"
      },
      "outputs": [],
      "source": [
        "def mean_sale(nums):\n",
        "  total_sum=0\n",
        "  for i in nums:\n",
        "    total_sum = total_sum + i\n",
        "    mean=total_sum/len(nums)\n",
        "  return mean"
      ]
    },
    {
      "cell_type": "code",
      "source": [
        "A=[10,15,12,8,14]\n",
        "print(mean_sale(A))"
      ],
      "metadata": {
        "colab": {
          "base_uri": "https://localhost:8080/"
        },
        "id": "ZqDJ71-BMkIE",
        "outputId": "0fd7bae7-be7d-45e6-9b4e-e62ef1e1293f"
      },
      "execution_count": null,
      "outputs": [
        {
          "output_type": "stream",
          "name": "stdout",
          "text": [
            "11.8\n"
          ]
        }
      ]
    },
    {
      "cell_type": "code",
      "source": [
        "B=[18,20,16,22,25]\n",
        "print(mean_sale(B))"
      ],
      "metadata": {
        "colab": {
          "base_uri": "https://localhost:8080/"
        },
        "id": "63hfp-_FMkEn",
        "outputId": "8bd30f26-def2-4ae7-a683-4100ebefbe40"
      },
      "execution_count": null,
      "outputs": [
        {
          "output_type": "stream",
          "name": "stdout",
          "text": [
            "20.2\n"
          ]
        }
      ]
    },
    {
      "cell_type": "code",
      "source": [],
      "metadata": {
        "id": "icFHhJUkMkBu"
      },
      "execution_count": null,
      "outputs": []
    },
    {
      "cell_type": "markdown",
      "source": [
        "Q2."
      ],
      "metadata": {
        "id": "6CvcgId1O3bW"
      }
    },
    {
      "cell_type": "code",
      "source": [
        "import numpy as np"
      ],
      "metadata": {
        "id": "REW3gMNnPG92"
      },
      "execution_count": null,
      "outputs": []
    },
    {
      "cell_type": "code",
      "source": [
        "def satisfaction(nums):\n",
        "\n",
        "  np.array(nums)\n",
        "\n",
        "  unique_values, value_counts = np.unique(nums, return_counts=True)\n",
        "  print('unique_values:',unique_values)\n",
        "  print('value_counts:',value_counts)\n",
        "\n",
        "  mode_index = np.argmax(value_counts)\n",
        "\n",
        "  mode = unique_values[mode_index]\n",
        "\n",
        "  return mode"
      ],
      "metadata": {
        "id": "aDWicP6rMj-E"
      },
      "execution_count": null,
      "outputs": []
    },
    {
      "cell_type": "code",
      "source": [
        "nums=[4,5,2,3,5,4,3,2,4,5]\n",
        "print(satisfaction(nums))"
      ],
      "metadata": {
        "colab": {
          "base_uri": "https://localhost:8080/"
        },
        "id": "HLb1kD2wMj6t",
        "outputId": "a987d5ea-633a-484e-b604-de785757af94"
      },
      "execution_count": null,
      "outputs": [
        {
          "output_type": "stream",
          "name": "stdout",
          "text": [
            "unique_values: [2 3 4 5]\n",
            "value_counts: [2 2 3 3]\n",
            "4\n"
          ]
        }
      ]
    },
    {
      "cell_type": "code",
      "source": [],
      "metadata": {
        "id": "EB1yG_i1Mj3I"
      },
      "execution_count": null,
      "outputs": []
    },
    {
      "cell_type": "markdown",
      "source": [
        "Q3."
      ],
      "metadata": {
        "id": "xnBkuzEBSFza"
      }
    },
    {
      "cell_type": "code",
      "source": [
        "def salary(data):\n",
        "  median_salary=np.median(data)\n",
        "  return median_salary"
      ],
      "metadata": {
        "id": "w0zYEoDNMjzi"
      },
      "execution_count": null,
      "outputs": []
    },
    {
      "cell_type": "code",
      "source": [
        "A=[5000,6000,5500,7000]\n",
        "print(salary(A))"
      ],
      "metadata": {
        "colab": {
          "base_uri": "https://localhost:8080/"
        },
        "id": "ph5SSjosMjwo",
        "outputId": "9f58af59-9644-45b2-c9b7-010df4902f11"
      },
      "execution_count": null,
      "outputs": [
        {
          "output_type": "stream",
          "name": "stdout",
          "text": [
            "5750.0\n"
          ]
        }
      ]
    },
    {
      "cell_type": "code",
      "source": [
        "B=[4500,5500,5800,6000,5200]\n",
        "print(salary(B))"
      ],
      "metadata": {
        "colab": {
          "base_uri": "https://localhost:8080/"
        },
        "id": "l0pJkEdpMjtd",
        "outputId": "42e3eec5-b3ec-41f2-9890-cf68073b513f"
      },
      "execution_count": null,
      "outputs": [
        {
          "output_type": "stream",
          "name": "stdout",
          "text": [
            "5500.0\n"
          ]
        }
      ]
    },
    {
      "cell_type": "code",
      "source": [],
      "metadata": {
        "id": "0JU6VBpsUt53"
      },
      "execution_count": null,
      "outputs": []
    },
    {
      "cell_type": "markdown",
      "source": [
        "Q4. Scenario: A data analyst wants to determine the variability in the daily stock prices of a company. The data collected is as follows:\n",
        "   [25.5, 24.8, 26.1, 25.3, 24.9]\n",
        "   Calculate the range of the stock prices."
      ],
      "metadata": {
        "id": "2yNUEux1UuPw"
      }
    },
    {
      "cell_type": "code",
      "source": [
        "def range_of_stock(data):\n",
        "  return max(data)-min(data)"
      ],
      "metadata": {
        "id": "rvPXTrA4Ut2i"
      },
      "execution_count": null,
      "outputs": []
    },
    {
      "cell_type": "code",
      "source": [
        "data=[25.5, 24.8, 26.1, 25.3, 24.9]\n",
        "print(range_of_stock(data))"
      ],
      "metadata": {
        "colab": {
          "base_uri": "https://localhost:8080/"
        },
        "id": "OngRrO7aUtzs",
        "outputId": "8536adbe-1439-465a-c94c-3d2cabee16bd"
      },
      "execution_count": null,
      "outputs": [
        {
          "output_type": "stream",
          "name": "stdout",
          "text": [
            "1.3000000000000007\n"
          ]
        }
      ]
    },
    {
      "cell_type": "code",
      "source": [],
      "metadata": {
        "id": "gt59O4J_UtwV"
      },
      "execution_count": null,
      "outputs": []
    },
    {
      "cell_type": "markdown",
      "source": [
        "5. Scenario: A study is conducted to compare the performance of two different teaching methods. The test scores of the students in each group are as follows:\n",
        "   Group A: [85, 90, 92, 88, 91]\n",
        "   Group B: [82, 88, 90, 86, 87]\n",
        "   Perform a t-test to determine if there is a significant difference in the mean scores between the two groups.\n"
      ],
      "metadata": {
        "id": "mJkdjpxiVbxS"
      }
    },
    {
      "cell_type": "code",
      "source": [
        "from scipy.stats import ttest_ind\n",
        "\n",
        "group_a_scores = [85, 90, 92, 88, 91]\n",
        "group_b_scores = [82, 88, 90, 86, 87]\n",
        "\n",
        "t_statistic, p_value = ttest_ind(group_a_scores, group_b_scores)\n",
        "\n",
        "alpha = 0.05\n",
        "\n",
        "if p_value < alpha:\n",
        "    print(\"There is a significant difference in the mean scores between Group A and Group B.\")\n",
        "else:\n",
        "    print(\"There is no significant difference in the mean scores between Group A and Group B.\")"
      ],
      "metadata": {
        "colab": {
          "base_uri": "https://localhost:8080/"
        },
        "id": "bGffQiPTUth9",
        "outputId": "ccb3b7cf-e2ae-4de1-aaea-944d44719e1f"
      },
      "execution_count": null,
      "outputs": [
        {
          "output_type": "stream",
          "name": "stdout",
          "text": [
            "There is no significant difference in the mean scores between Group A and Group B.\n"
          ]
        }
      ]
    },
    {
      "cell_type": "code",
      "source": [],
      "metadata": {
        "id": "OnkG4154UtPZ"
      },
      "execution_count": null,
      "outputs": []
    },
    {
      "cell_type": "markdown",
      "source": [
        "6. Scenario: A company wants to analyze the relationship between advertising expenditure and sales. The data collected is as follows:\n",
        "   Advertising Expenditure (in thousands): [10, 15, 12, 8, 14]\n",
        "   Sales (in thousands): [25, 30, 28, 20, 26]\n",
        "   Calculate the correlation coefficient between advertising expenditure and sales.\n"
      ],
      "metadata": {
        "id": "CEB0ueJpzpcI"
      }
    },
    {
      "cell_type": "code",
      "source": [
        "import scipy.stats as stats\n",
        "\n",
        "advertising_expenditure = [10000, 15000, 12000, 8000, 14000]\n",
        "sales = [25000, 30000, 28000, 20000, 26000]\n",
        "\n",
        "correlation_coefficient, _ = stats.pearsonr(advertising_expenditure, sales)\n",
        "\n",
        "print(\"Correlation coefficient:\", correlation_coefficient)"
      ],
      "metadata": {
        "colab": {
          "base_uri": "https://localhost:8080/"
        },
        "id": "c05x06zDUtML",
        "outputId": "9ea55bd3-10aa-4003-fc41-a4c43ebb792a"
      },
      "execution_count": null,
      "outputs": [
        {
          "output_type": "stream",
          "name": "stdout",
          "text": [
            "Correlation coefficient: 0.8757511375750133\n"
          ]
        }
      ]
    },
    {
      "cell_type": "markdown",
      "source": [
        "The correlation coefficient (r) for the given data is approximately 0.867. This value indicates a strong positive correlation between advertising expenditure and sales. A positive correlation means that as advertising expenditure increases, sales also tend to increase. The closer the correlation coefficient is to 1, the stronger the positive linear relationship between the two variables."
      ],
      "metadata": {
        "id": "qoGc4Ded_5f8"
      }
    },
    {
      "cell_type": "code",
      "source": [],
      "metadata": {
        "id": "T_tyUlc2UtJP"
      },
      "execution_count": null,
      "outputs": []
    },
    {
      "cell_type": "markdown",
      "source": [
        "7. Scenario: A survey is conducted to measure the heights of a group of people. The data collected is as follows:\n",
        "   [160, 170, 165, 155, 175, 180, 170]\n",
        "   Calculate the standard deviation of the heights."
      ],
      "metadata": {
        "id": "GrzAWYF5AAFS"
      }
    },
    {
      "cell_type": "code",
      "source": [
        "data= [160, 170, 165, 155, 175, 180, 170]\n",
        "mean=np.mean(data)\n",
        "variance = np.var(data, ddof=1)\n",
        "standard_devatation = math.sqrt(variance)"
      ],
      "metadata": {
        "id": "vhkpzyiJUtGI"
      },
      "execution_count": null,
      "outputs": []
    },
    {
      "cell_type": "code",
      "source": [
        "mean"
      ],
      "metadata": {
        "colab": {
          "base_uri": "https://localhost:8080/"
        },
        "id": "4d-6iiBZUtDk",
        "outputId": "0d6d64bd-0e46-40e7-e50b-bd205a4aebd4"
      },
      "execution_count": null,
      "outputs": [
        {
          "output_type": "execute_result",
          "data": {
            "text/plain": [
              "167.85714285714286"
            ]
          },
          "metadata": {},
          "execution_count": 85
        }
      ]
    },
    {
      "cell_type": "code",
      "source": [
        "variance"
      ],
      "metadata": {
        "colab": {
          "base_uri": "https://localhost:8080/"
        },
        "id": "zSie0B0vUtAq",
        "outputId": "eeb7149b-25b6-426c-ff86-261986bd8ba4"
      },
      "execution_count": null,
      "outputs": [
        {
          "output_type": "execute_result",
          "data": {
            "text/plain": [
              "73.80952380952381"
            ]
          },
          "metadata": {},
          "execution_count": 86
        }
      ]
    },
    {
      "cell_type": "code",
      "source": [
        "standard_devatation"
      ],
      "metadata": {
        "colab": {
          "base_uri": "https://localhost:8080/"
        },
        "id": "GHOIgr5dUs65",
        "outputId": "03d46112-c1e0-47cc-9780-0171b4f2d80a"
      },
      "execution_count": null,
      "outputs": [
        {
          "output_type": "execute_result",
          "data": {
            "text/plain": [
              "8.591246929842246"
            ]
          },
          "metadata": {},
          "execution_count": 87
        }
      ]
    },
    {
      "cell_type": "code",
      "source": [],
      "metadata": {
        "id": "ub28zmk6Us33"
      },
      "execution_count": null,
      "outputs": []
    },
    {
      "cell_type": "markdown",
      "source": [
        "8. Scenario: A company wants to analyze the relationship between employee tenure and job satisfaction. The data collected is as follows:\n",
        "   Employee Tenure (in years): [2, 3, 5, 4, 6, 2, 4]\n",
        "   Job Satisfaction (on a scale of 1 to 10): [7, 8, 6, 9, 5, 7, 6]\n",
        "   Perform a linear regression analysis to predict job satisfaction based on employee tenure."
      ],
      "metadata": {
        "id": "xrZiNSrYKGxL"
      }
    },
    {
      "cell_type": "code",
      "source": [
        "import numpy as np\n",
        "import scipy.stats as stats\n",
        "\n",
        "employee_tenure = [2, 3, 5, 4, 6, 2, 4]\n",
        "job_satisfaction = [7, 8, 6, 9, 5, 7, 6]\n",
        "\n",
        "slope, intercept, r_value, p_value, std_err = stats.linregress(employee_tenure, job_satisfaction)\n",
        "\n",
        "print(\"Linear Regression Analysis:\")\n",
        "print(\"Slope (β1):\", slope)\n",
        "print(\"Intercept (β0):\", intercept)\n",
        "print(\"R-squared:\", r_value**2)"
      ],
      "metadata": {
        "colab": {
          "base_uri": "https://localhost:8080/"
        },
        "id": "naNahWBUKGNu",
        "outputId": "5853a5bc-3cdc-4638-b3d2-26f11bd54f10"
      },
      "execution_count": null,
      "outputs": [
        {
          "output_type": "stream",
          "name": "stdout",
          "text": [
            "Linear Regression Analysis:\n",
            "Slope (β1): -0.4680851063829787\n",
            "Intercept (β0): 8.595744680851062\n",
            "R-squared: 0.27099664053751393\n"
          ]
        }
      ]
    },
    {
      "cell_type": "code",
      "source": [],
      "metadata": {
        "id": "eht9dSmiNr1y"
      },
      "execution_count": null,
      "outputs": []
    },
    {
      "cell_type": "markdown",
      "source": [
        "9. Scenario: A study is conducted to compare the effectiveness of two different medications. The recovery times of the patients in each group are as follows:\n",
        "   Medication A: [10, 12, 14, 11, 13]\n",
        "   Medication B: [15, 17, 16, 14, 18]\n",
        "   Perform an analysis of variance (ANOVA) to determine if there is a significant difference in the mean recovery times between the two medications."
      ],
      "metadata": {
        "id": "msFP76AhMl0l"
      }
    },
    {
      "cell_type": "code",
      "source": [
        "import scipy.stats as stats\n",
        "\n",
        "medication_a = [10, 12, 14, 11, 13]\n",
        "medication_b = [15, 17, 16, 14, 18]\n",
        "\n",
        "f_statistic, p_value = stats.f_oneway(medication_a, medication_b)\n",
        "\n",
        "print(\"Analysis of Variance (ANOVA):\")\n",
        "print(\"F-statistic:\", f_statistic)\n",
        "print(\"p-value:\", p_value)"
      ],
      "metadata": {
        "colab": {
          "base_uri": "https://localhost:8080/"
        },
        "id": "EeH7oO_9KGHO",
        "outputId": "cba4e4e0-5cde-4a24-c3a4-2de53ce21f38"
      },
      "execution_count": null,
      "outputs": [
        {
          "output_type": "stream",
          "name": "stdout",
          "text": [
            "Analysis of Variance (ANOVA):\n",
            "F-statistic: 16.0\n",
            "p-value: 0.003949772803445326\n"
          ]
        }
      ]
    },
    {
      "cell_type": "code",
      "source": [],
      "metadata": {
        "id": "HqG2eYDkP35v"
      },
      "execution_count": null,
      "outputs": []
    },
    {
      "cell_type": "markdown",
      "source": [
        "10. Scenario: A company wants to analyze customer feedback ratings on a scale of 1 to 10. The data collected is\n",
        "\n",
        " as follows:\n",
        "    [8, 9, 7, 6, 8, 10, 9, 8, 7, 8]\n",
        "    Calculate the 75th percentile of the feedback ratings."
      ],
      "metadata": {
        "id": "Nlh5Q0Exdikt"
      }
    },
    {
      "cell_type": "code",
      "source": [
        "def feedback(data):\n",
        "  n = len(data)\n",
        "  ans = (75/100) * (n+1)\n",
        "  return ans"
      ],
      "metadata": {
        "id": "jWh6J5wqP32T"
      },
      "execution_count": null,
      "outputs": []
    },
    {
      "cell_type": "code",
      "source": [
        "data=[8, 9, 7, 6, 8, 10, 9, 8, 7, 8]\n",
        "print(feedback(data))"
      ],
      "metadata": {
        "colab": {
          "base_uri": "https://localhost:8080/"
        },
        "id": "7SJn7XIIP3zr",
        "outputId": "8fdf16fa-965c-4046-b38b-3e4c00098881"
      },
      "execution_count": null,
      "outputs": [
        {
          "output_type": "stream",
          "name": "stdout",
          "text": [
            "8.25\n"
          ]
        }
      ]
    },
    {
      "cell_type": "code",
      "source": [],
      "metadata": {
        "id": "P9A6w_AKP3wp"
      },
      "execution_count": null,
      "outputs": []
    },
    {
      "cell_type": "markdown",
      "source": [
        "11. Scenario: A quality control department wants to test the weight consistency of a product. The weights of a sample of products are as follows:\n",
        "    [10.2, 9.8, 10.0, 10.5, 10.3, 10.1]\n",
        "    Perform a hypothesis test to determine if the mean weight differs significantly from 10 grams.\n"
      ],
      "metadata": {
        "id": "sC9xUnpkVAaC"
      }
    },
    {
      "cell_type": "code",
      "source": [
        "import numpy as np\n",
        "import scipy.stats as stats\n",
        "\n",
        "weights = [10.2, 9.8, 10.0, 10.5, 10.3, 10.1]\n",
        "population_mean = 10.0\n",
        "\n",
        "t_statistic, p_value = stats.ttest_1samp(weights, population_mean)\n",
        "\n",
        "print(\"One-Sample T-Test:\")\n",
        "print(\"T-Statistic:\", t_statistic)\n",
        "print(\"P-Value:\", p_value)"
      ],
      "metadata": {
        "colab": {
          "base_uri": "https://localhost:8080/"
        },
        "id": "QfPdu7CHP3tv",
        "outputId": "0440f363-a106-474d-d9b9-5911c70fc9cf"
      },
      "execution_count": null,
      "outputs": [
        {
          "output_type": "stream",
          "name": "stdout",
          "text": [
            "One-Sample T-Test:\n",
            "T-Statistic: 1.5126584522688367\n",
            "P-Value: 0.19077595151110102\n"
          ]
        }
      ]
    },
    {
      "cell_type": "code",
      "source": [],
      "metadata": {
        "id": "nXTgjptMU_-P"
      },
      "execution_count": null,
      "outputs": []
    },
    {
      "cell_type": "markdown",
      "source": [
        "12. Scenario: A company wants to analyze the click-through rates of two different website designs. The number of clicks for each design is as follows:\n",
        "    Design A: [100, 120, 110, 90, 95]\n",
        "    Design B: [80, 85, 90, 95, 100]\n",
        "    Perform a chi-square test to determine if there is a significant difference in the click-through rates between the two designs\n"
      ],
      "metadata": {
        "id": "r1eRN-nPfGiS"
      }
    },
    {
      "cell_type": "code",
      "source": [
        "import numpy as np\n",
        "import scipy.stats as stats\n",
        "\n",
        "design_a = [100, 120, 110, 90, 95]\n",
        "design_b = [80, 85, 90, 95, 100]\n",
        "\n",
        "contingency_table = np.array([design_a, design_b])\n",
        "\n",
        "chi2_statistic, p_value, dof, expected = stats.chi2_contingency(contingency_table)\n",
        "\n",
        "print(\"Chi-Square Test:\")\n",
        "print(\"Chi2 Statistic:\", chi2_statistic)\n",
        "print(\"P-Value:\", p_value)\n",
        "print(\"Degrees of Freedom:\", dof)\n",
        "print(\"Expected Frequencies:\\n\", expected)"
      ],
      "metadata": {
        "colab": {
          "base_uri": "https://localhost:8080/"
        },
        "id": "OmMjDGj0fGCT",
        "outputId": "ab653d99-cc4a-498f-fcdf-17d47397a291"
      },
      "execution_count": null,
      "outputs": [
        {
          "output_type": "stream",
          "name": "stdout",
          "text": [
            "Chi-Square Test:\n",
            "Chi2 Statistic: 6.110658166925435\n",
            "P-Value: 0.19103526314060293\n",
            "Degrees of Freedom: 4\n",
            "Expected Frequencies:\n",
            " [[ 96.06217617 109.40414508 106.7357513   98.73056995 104.06735751]\n",
            " [ 83.93782383  95.59585492  93.2642487   86.26943005  90.93264249]]\n"
          ]
        }
      ]
    },
    {
      "cell_type": "code",
      "source": [
        "# Given data (clicks for each design)\n",
        "design_a = [100, 120, 110, 90, 95]\n",
        "design_b = [80, 85, 90, 95, 100]\n",
        "\n",
        "# Create the contingency table\n",
        "contingency_table = [design_a, design_b]\n",
        "\n",
        "# Calculate the expected frequencies\n",
        "def calculate_expected_frequencies(table):\n",
        "    row_totals = [sum(row) for row in table]\n",
        "    # print(row_totals)\n",
        "    col_totals = [sum(col) for col in zip(*table)]\n",
        "    # print(col_totals)\n",
        "    total = sum(row_totals)\n",
        "    # print(total)\n",
        "    expected = [[row_total * col_total / total for col_total in col_totals] for row_total in row_totals]\n",
        "    return expected\n",
        "\n",
        "expected_frequencies = calculate_expected_frequencies(contingency_table)\n",
        "\n",
        "# Calculate the chi-square statistic\n",
        "def calculate_chi_square_statistic(observed, expected):\n",
        "    res = list((observed[i][j] - expected[i][j]) ** 2 / expected[i][j] for i in range(len(observed)) for j in range(len(observed[i])))\n",
        "    print(res)\n",
        "    ans = sum((observed[i][j] - expected[i][j]) ** 2 / expected[i][j] for i in range(len(observed)) for j in range(len(observed[i])))\n",
        "    return ans\n",
        "\n",
        "chi_square_statistic = calculate_chi_square_statistic(contingency_table, expected_frequencies)\n",
        "\n",
        "# Determine the degrees of freedom\n",
        "degrees_of_freedom = (len(contingency_table) - 1) * (len(contingency_table[0]) - 1)\n",
        "\n",
        "# Given significance level (alpha)\n",
        "alpha = 0.05\n",
        "\n",
        "# Calculate the critical chi-square value\n",
        "critical_chi_square = 9.4877\n",
        "\n",
        "# Calculate the p-value\n",
        "p_value = 1.0 - chi_square_statistic\n",
        "\n",
        "# Print the results\n",
        "print(\"Chi-Square Test:\")\n",
        "print(\"Chi2 Statistic:\", chi_square_statistic)\n",
        "print(\"Degrees of Freedom:\", degrees_of_freedom)\n",
        "print(\"Critical Chi-Square Value (alpha=0.05):\", critical_chi_square)\n",
        "print(\"P-Value:\", p_value)\n",
        "\n",
        "# Compare chi-square statistic with the critical chi-square value to determine the p-value\n",
        "if chi_square_statistic > critical_chi_square:\n",
        "    print(\"The difference in click-through rates between the designs is significant (reject the null hypothesis).\")\n",
        "else:\n",
        "    print(\"The difference in click-through rates between the designs is not significant (fail to reject the null hypothesis).\")"
      ],
      "metadata": {
        "colab": {
          "base_uri": "https://localhost:8080/"
        },
        "id": "kOn0Ac5ukqDF",
        "outputId": "ce2aea22-5b54-4e72-ac65-b7cfab6e3284"
      },
      "execution_count": null,
      "outputs": [
        {
          "output_type": "stream",
          "name": "stdout",
          "text": [
            "[0.16142104174701385, 1.0262146964746484, 0.09982896523970046, 0.7720288828493465, 0.7900361288358667, 0.18473741444380476, 1.1744457081876531, 0.11424870466321274, 0.8835441659275854, 0.904152458556603]\n",
            "Chi-Square Test:\n",
            "Chi2 Statistic: 6.110658166925435\n",
            "Degrees of Freedom: 4\n",
            "Critical Chi-Square Value (alpha=0.05): 9.4877\n",
            "P-Value: -5.110658166925435\n",
            "The difference in click-through rates between the designs is not significant (fail to reject the null hypothesis).\n"
          ]
        }
      ]
    },
    {
      "cell_type": "code",
      "source": [],
      "metadata": {
        "id": "3a0_CTwKkpnu"
      },
      "execution_count": null,
      "outputs": []
    },
    {
      "cell_type": "markdown",
      "source": [
        "13. Scenario: A survey is conducted to measure customer satisfaction with a product on a scale of 1 to 10. The data collected is as follows:\n",
        "    [7, 9, 6, 8, 10, 7, 8, 9, 7, 8]\n",
        "    Calculate the 95% confidence interval for the population mean satisfaction score.\n"
      ],
      "metadata": {
        "id": "pYFYqKzAhZv7"
      }
    },
    {
      "cell_type": "code",
      "source": [
        "import numpy as np\n",
        "import scipy.stats as stats\n",
        "\n",
        "satisfaction_scores = [7, 9, 6, 8, 10, 7, 8, 9, 7, 8]\n",
        "\n",
        "sample_mean = np.mean(satisfaction_scores)\n",
        "print(\"sample_mean=\",sample_mean)\n",
        "sample_std = np.std(satisfaction_scores, ddof=1)\n",
        "print(\"sample_std=\",sample_std)\n",
        "\n",
        "sample_size = len(satisfaction_scores)\n",
        "degrees_of_freedom = sample_size - 1\n",
        "\n",
        "alpha = 0.05\n",
        "t_critical = stats.t.ppf(1 - alpha / 2, degrees_of_freedom)\n",
        "print(\"t_critical=\",t_critical)\n",
        "\n",
        "margin_of_error = t_critical * (sample_std / np.sqrt(sample_size))\n",
        "# print(margin_of_error)\n",
        "\n",
        "confidence_interval_lower = sample_mean - margin_of_error\n",
        "confidence_interval_upper = sample_mean + margin_of_error\n",
        "\n",
        "print(\"95% Confidence Interval for the Population Mean Satisfaction Score:\")\n",
        "print(\"Lower bound:\", confidence_interval_lower)\n",
        "print(\"Upper bound:\", confidence_interval_upper)"
      ],
      "metadata": {
        "colab": {
          "base_uri": "https://localhost:8080/"
        },
        "id": "8fEHLdpKfF36",
        "outputId": "0e9a9f0b-5829-4ac6-fff4-b69c151eda9e"
      },
      "execution_count": null,
      "outputs": [
        {
          "output_type": "stream",
          "name": "stdout",
          "text": [
            "sample_mean= 7.9\n",
            "sample_std= 1.1972189997378646\n",
            "t_critical= 2.2621571627409915\n",
            "95% Confidence Interval for the Population Mean Satisfaction Score:\n",
            "Lower bound: 7.043561120599888\n",
            "Upper bound: 8.756438879400113\n"
          ]
        }
      ]
    },
    {
      "cell_type": "code",
      "source": [],
      "metadata": {
        "id": "PiObtJbNhbHj"
      },
      "execution_count": null,
      "outputs": []
    },
    {
      "cell_type": "markdown",
      "source": [
        "14. Scenario: A company wants to analyze the effect of temperature on product performance. The data collected is as follows:\n",
        "    Temperature (in degrees Celsius): [20, 22, 23, 19, 21]\n",
        "    Performance (on a scale of 1 to 10): [8, 7, 9, 6, 8]\n",
        "    Perform a simple linear regression to predict performance based on temperature.\n"
      ],
      "metadata": {
        "id": "IlsRTtnahb1p"
      }
    },
    {
      "cell_type": "code",
      "source": [
        "import numpy as np\n",
        "\n",
        "temperature = [20, 22, 23, 19, 21]\n",
        "performance = [8, 7, 9, 6, 8]\n",
        "\n",
        "temperature = np.array(temperature)\n",
        "performance = np.array(performance)\n",
        "\n",
        "mean_temperature = np.mean(temperature)\n",
        "print('mean_temperature:',mean_temperature)\n",
        "mean_performance = np.mean(performance)\n",
        "print('mean_performance:',mean_performance)\n",
        "\n",
        "deviation_temperature = temperature - mean_temperature\n",
        "print('deviation_temperature:',deviation_temperature)\n",
        "deviation_performance = performance - mean_performance\n",
        "print('deviation_performance:',deviation_performance)\n",
        "\n",
        "slope = np.sum(deviation_temperature * deviation_performance) / np.sum(deviation_temperature ** 2)\n",
        "# print('slope:',slope)\n",
        "\n",
        "intercept = mean_performance - slope * mean_temperature\n",
        "# print(\"intercept:\",intercept)\n",
        "\n",
        "regression_line = f\"Performance = {intercept:.2f} + {slope:.2f} * Temperature\"\n",
        "\n",
        "print(\"Simple Linear Regression:\")\n",
        "print(regression_line)"
      ],
      "metadata": {
        "colab": {
          "base_uri": "https://localhost:8080/"
        },
        "id": "8fo0jN19hbEF",
        "outputId": "da9d0ac1-791f-486a-854b-d3108c07b1cd"
      },
      "execution_count": null,
      "outputs": [
        {
          "output_type": "stream",
          "name": "stdout",
          "text": [
            "mean_temperature: 21.0\n",
            "mean_performance: 7.6\n",
            "deviation_temperature: [-1.  1.  2. -2.  0.]\n",
            "deviation_performance: [ 0.4 -0.6  1.4 -1.6  0.4]\n",
            "Simple Linear Regression:\n",
            "Performance = -2.90 + 0.50 * Temperature\n"
          ]
        }
      ]
    },
    {
      "cell_type": "code",
      "source": [],
      "metadata": {
        "id": "XYxqHB_fhbAq"
      },
      "execution_count": null,
      "outputs": []
    },
    {
      "cell_type": "markdown",
      "source": [
        "15. Scenario: A study is conducted to compare the preferences of two groups of participants. The preferences are measured on a Likert scale from 1 to 5. The data collected is as follows:\n",
        "    Group A: [4, 3, 5, 2, 4]\n",
        "    Group B: [3, 2, 4, 3, 3]\n",
        "    Perform a Mann-Whitney U test to determine if there is a significant difference in the median preferences between the two groups.\n"
      ],
      "metadata": {
        "id": "O6YXGSNyhgNm"
      }
    },
    {
      "cell_type": "code",
      "source": [
        "import numpy as np\n",
        "from scipy.stats import mannwhitneyu\n",
        "\n",
        "group_a = np.array([4, 3, 5, 2, 4])\n",
        "group_b = np.array([3, 2, 4, 3, 3])\n",
        "\n",
        "statistic, p_value = mannwhitneyu(group_a, group_b)\n",
        "\n",
        "print(f\"Mann-Whitney U test statistic: {statistic:.4f}\")\n",
        "print(f\"P-value: {p_value:.4f}\")\n",
        "\n",
        "significance_level = 0.05\n",
        "if p_value < significance_level:\n",
        "    print(\"There is a significant difference in the median preferences between the two groups.\")\n",
        "else:\n",
        "    print(\"There is no significant difference in the median preferences between the two groups.\")"
      ],
      "metadata": {
        "id": "lkRxttQxha9L",
        "colab": {
          "base_uri": "https://localhost:8080/"
        },
        "outputId": "18344c64-80a4-4f06-fd3b-d6e3a0c56611"
      },
      "execution_count": null,
      "outputs": [
        {
          "output_type": "stream",
          "name": "stdout",
          "text": [
            "Mann-Whitney U test statistic: 17.0000\n",
            "P-value: 0.3808\n",
            "There is no significant difference in the median preferences between the two groups.\n"
          ]
        }
      ]
    },
    {
      "cell_type": "code",
      "source": [],
      "metadata": {
        "id": "--aW6V8Khobw"
      },
      "execution_count": null,
      "outputs": []
    },
    {
      "cell_type": "markdown",
      "source": [
        "16. Scenario: A company wants to analyze the distribution of customer ages. The data collected is as follows:\n",
        "    [25, 30, 35, 40, 45, 50, 55, 60, 65, 70]\n",
        "    Calculate the interquartile range (IQR) of the ages.\n"
      ],
      "metadata": {
        "id": "9gfsQUUehpCA"
      }
    },
    {
      "cell_type": "code",
      "source": [
        "ages= [25, 30, 35, 40, 45, 50, 55, 60, 65, 70]\n",
        "\n",
        "n=len(ages)//2\n",
        "sorted(ages)\n",
        "\n",
        "median = np.median(ages)\n",
        "\n",
        "# data is even\n",
        "q1 = ages[0:n]\n",
        "q3 = ages[n:]\n",
        "\n",
        "median_q1=np.median(q1)\n",
        "median_q3=np.median(q3)\n",
        "\n",
        "iqr = median_q3 - median_q1\n",
        "print(\"IQR:\",iqr)"
      ],
      "metadata": {
        "id": "kDhustiAhoYR",
        "colab": {
          "base_uri": "https://localhost:8080/"
        },
        "outputId": "8007f5b5-d93d-4921-a707-7f38d0357003"
      },
      "execution_count": null,
      "outputs": [
        {
          "output_type": "stream",
          "name": "stdout",
          "text": [
            "IQR: 25.0\n"
          ]
        }
      ]
    },
    {
      "cell_type": "code",
      "source": [],
      "metadata": {
        "id": "mbJnc52WhoV2"
      },
      "execution_count": null,
      "outputs": []
    },
    {
      "cell_type": "markdown",
      "source": [
        "17. Scenario: A study is conducted to compare the performance of three different machine learning algorithms. The accuracy scores for each algorithm are as follows:\n",
        "    Algorithm A: [0.85, 0.80, 0.82, 0.87, 0.83]\n",
        "    Algorithm B: [0.78, 0.82, 0.84, 0.80, 0.79]\n",
        "    Algorithm C: [0.90, 0.88, 0.89, 0.86, 0.87]\n",
        "    Perform a Kruskal-Wallis test to determine if there is a significant difference in the median accuracy scores between the algorithms.\n"
      ],
      "metadata": {
        "id": "XHF8z67yhyEl"
      }
    },
    {
      "cell_type": "code",
      "source": [
        "import numpy as np\n",
        "from scipy.stats import kruskal\n",
        "\n",
        "algorithm_a = np.array([0.85, 0.80, 0.82, 0.87, 0.83])\n",
        "algorithm_b = np.array([0.78, 0.82, 0.84, 0.80, 0.79])\n",
        "algorithm_c = np.array([0.90, 0.88, 0.89, 0.86, 0.87])\n",
        "\n",
        "statistic, p_value = kruskal(algorithm_a, algorithm_b, algorithm_c)\n",
        "\n",
        "print(f\"Kruskal-Wallis test statistic: {statistic:.4f}\")\n",
        "print(f\"P-value: {p_value:.4f}\")\n",
        "\n",
        "significance_level = 0.05\n",
        "if p_value < significance_level:\n",
        "    print(\"There is a significant difference in the median accuracy scores between the algorithms.\")\n",
        "else:\n",
        "    print(\"There is no significant difference in the median accuracy scores between the algorithms.\")"
      ],
      "metadata": {
        "id": "lvxunOh5hoS7",
        "colab": {
          "base_uri": "https://localhost:8080/"
        },
        "outputId": "a2e7e86e-8a38-4074-8c5f-f16a70370861"
      },
      "execution_count": null,
      "outputs": [
        {
          "output_type": "stream",
          "name": "stdout",
          "text": [
            "Kruskal-Wallis test statistic: 9.6969\n",
            "P-value: 0.0078\n",
            "There is a significant difference in the median accuracy scores between the algorithms.\n"
          ]
        }
      ]
    },
    {
      "cell_type": "code",
      "source": [],
      "metadata": {
        "id": "I__lg9HohoQQ"
      },
      "execution_count": null,
      "outputs": []
    },
    {
      "cell_type": "markdown",
      "source": [
        "18. Scenario: A company wants to analyze the effect of price on sales. The data collected is as follows:\n",
        "    Price (in dollars): [10, 15, 12, 8, 14]\n",
        "    Sales: [100, 80, 90, 110, 95]\n",
        "    Perform a simple linear regression to predict\n",
        "\n",
        " sales based on price.\n"
      ],
      "metadata": {
        "id": "XH4MuKQohzhK"
      }
    },
    {
      "cell_type": "code",
      "source": [
        "import numpy as np\n",
        "import math\n",
        "\n",
        "price = [10, 15, 12, 8, 14]\n",
        "sales=[100, 80, 90, 110, 95]\n",
        "\n",
        "mean_price=np.mean(price)\n",
        "mean_sale=np.mean(sales)\n",
        "\n",
        "dev_price=price - mean_price\n",
        "print('dev_price:',dev_price)\n",
        "dev_sale=sales - mean_sale\n",
        "print('dev_sale:',dev_sale)\n",
        "\n",
        "slope = np.sum(dev_price * dev_sale) / np.sum(dev_price ** 2)\n",
        "print('slope:',slope)\n",
        "\n",
        "intercept = mean_sale - slope * mean_price\n",
        "print('intercept:',intercept)\n",
        "\n",
        "regression_line = f\"sales = {intercept:.2f} + {slope:.2f} * price\"\n",
        "\n",
        "print(\"Simple Linear Regression:\")\n",
        "print(regression_line)"
      ],
      "metadata": {
        "id": "fVWTnuxchoNk",
        "colab": {
          "base_uri": "https://localhost:8080/"
        },
        "outputId": "0b274d7f-159d-4683-e6a8-3f3edbd33067"
      },
      "execution_count": null,
      "outputs": [
        {
          "output_type": "stream",
          "name": "stdout",
          "text": [
            "dev_price: [-1.8  3.2  0.2 -3.8  2.2]\n",
            "dev_sale: [  5. -15.  -5.  15.   0.]\n",
            "slope: -3.50609756097561\n",
            "intercept: 136.3719512195122\n",
            "Simple Linear Regression:\n",
            "sales = 136.37 + -3.51 * price\n"
          ]
        }
      ]
    },
    {
      "cell_type": "code",
      "source": [],
      "metadata": {
        "id": "Lgqo59bXhoKi"
      },
      "execution_count": null,
      "outputs": []
    },
    {
      "cell_type": "markdown",
      "source": [
        "19. Scenario: A survey is conducted to measure the satisfaction levels of customers with a new product. The data collected is as follows:\n",
        "    [7, 8, 9, 6, 8, 7, 9, 7, 8, 7]\n",
        "    Calculate the standard error of the mean satisfaction score.\n"
      ],
      "metadata": {
        "id": "U0damMt-h3Bu"
      }
    },
    {
      "cell_type": "code",
      "source": [
        "data= [7, 8, 9, 6, 8, 7, 9, 7, 8, 7]\n",
        "mean = np.mean(data)\n",
        "\n",
        "sum_of_sq_diff=[(i-mean)**2 for i in data]\n",
        "print('sum_of_sq_diff:',sum(sum_of_sq_diff))\n",
        "\n",
        "std_error = sum(sum_of_sq_diff) / len(data)\n",
        "print('std_error:',std_error)\n",
        "\n",
        "std_error_mean = math.sqrt(std_error)\n",
        "print('std_error_mean:',std_error_mean)"
      ],
      "metadata": {
        "id": "JbgkH0orhoIJ",
        "colab": {
          "base_uri": "https://localhost:8080/"
        },
        "outputId": "8f733e2a-bacd-4705-a759-2bc851f61e15"
      },
      "execution_count": null,
      "outputs": [
        {
          "output_type": "stream",
          "name": "stdout",
          "text": [
            "sum_of_sq_diff: 8.399999999999999\n",
            "std_error: 0.8399999999999999\n",
            "std_error_mean: 0.9165151389911679\n"
          ]
        }
      ]
    },
    {
      "cell_type": "code",
      "source": [],
      "metadata": {
        "id": "cUC-5jeQU_7a"
      },
      "execution_count": null,
      "outputs": []
    },
    {
      "cell_type": "markdown",
      "source": [
        "20. Scenario: A company wants to analyze the relationship between advertising expenditure and sales. The data collected is as follows:\n",
        "    Advertising Expenditure (in thousands): [10, 15, 12, 8, 14]\n",
        "    Sales (in thousands): [25, 30, 28, 20, 26]\n",
        "    Perform a multiple regression analysis to predict sales based on advertising expenditure.\n"
      ],
      "metadata": {
        "id": "L6P9cPzlh71Z"
      }
    },
    {
      "cell_type": "code",
      "source": [
        "import numpy as np\n",
        "from sklearn.linear_model import LinearRegression\n",
        "\n",
        "advertising_expenditure = np.array([10, 15, 12, 8, 14]).reshape(-1, 1)\n",
        "sales = np.array([25, 30, 28, 20, 26])\n",
        "\n",
        "regression_model = LinearRegression()\n",
        "\n",
        "regression_model.fit(advertising_expenditure, sales)\n",
        "\n",
        "intercept = regression_model.intercept_\n",
        "slope = regression_model.coef_[0]\n",
        "\n",
        "print(f\"Intercept (b0): {intercept:.4f}\")\n",
        "print(f\"Coefficient (b1): {slope:.4f}\")\n",
        "\n",
        "new_advertising_expenditure = 20\n",
        "predicted_sales = regression_model.predict([[new_advertising_expenditure]])[0]\n",
        "\n",
        "print(f\"Predicted sales for {new_advertising_expenditure} thousands advertising expenditure: {predicted_sales:.4f} thousands\")"
      ],
      "metadata": {
        "id": "4Tm1ZT9Mh7Yq",
        "colab": {
          "base_uri": "https://localhost:8080/"
        },
        "outputId": "90cb9865-9840-4035-9de9-004a8ba17c4f"
      },
      "execution_count": null,
      "outputs": [
        {
          "output_type": "stream",
          "name": "stdout",
          "text": [
            "Intercept (b0): 12.2012\n",
            "Coefficient (b1): 1.1524\n",
            "Predicted sales for 20 thousands advertising expenditure: 35.2500 thousands\n"
          ]
        }
      ]
    },
    {
      "cell_type": "code",
      "source": [],
      "metadata": {
        "id": "cepoCqDn9Jy-"
      },
      "execution_count": null,
      "outputs": []
    },
    {
      "cell_type": "code",
      "source": [],
      "metadata": {
        "id": "uMVvGQXM9Kz-"
      },
      "execution_count": null,
      "outputs": []
    }
  ]
}